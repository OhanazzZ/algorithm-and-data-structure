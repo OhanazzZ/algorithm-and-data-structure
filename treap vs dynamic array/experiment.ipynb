{
 "cells": [
  {
   "cell_type": "markdown",
   "id": "a9660ea9",
   "metadata": {},
   "source": [
    "## An Experimental Study on Treap\n",
    "\n",
    "This notebook documents an experimental comparison between Treap and Dynamic Array and their performance under different settings.  \n",
    "\n",
    "This notebook implements:\n",
    "* Data generator\n",
    "* Sequence generator\n",
    "* Randomised Treap\n",
    "* Dynamic Array as a competitor \n",
    "\n",
    "This notebook conducts experiments under the following settings:\n",
    "* Experiment 1: Time v.s. Number of Insertions\n",
    "    * Sequence length $\\in \\{0.1M, 0.2M, 0.5M, 0.8M, 1M\\}$, where $M$ = one million\n",
    "\n",
    "\n",
    "* Experiment 2: Time v.s. Deletion Percentage.\n",
    "    * Sequence length = $1M$\n",
    "    * $prob_{delete} \\in \\{0.1\\%, 0.5\\%, 1\\%, 5\\%, 10\\%\\}, prob_{insert} = 1 - prob_{delete} $\n",
    "\n",
    "\n",
    "* Experiment 3: Time v.s. Search Percentage.\n",
    "    * Sequence length = $1M$\n",
    "    * $prob_{search} \\in \\{0.1\\%, 0.5\\%, 1\\%, 5\\%, 10\\%\\}, prob_{insert} = 1 - prob_{search} $\n",
    "\n",
    "\n",
    "* Experiment 4: Time v.s. Length of Mixed Operation Sequence\n",
    "    * Sequence length $\\in \\{0.1M, 0.2M, 0.5M, 0.8M, 1M\\}$, where $M$ = one million\n",
    "    * $prob_{delete}=5\\%, prob_{search}=5\\%, prob_{insert}=90\\%$"
   ]
  },
  {
   "cell_type": "markdown",
   "id": "9767d1a0",
   "metadata": {},
   "source": [
    "---"
   ]
  },
  {
   "cell_type": "code",
   "execution_count": 1,
   "id": "8e2eca21",
   "metadata": {},
   "outputs": [],
   "source": [
    "# lib for Data Generation and running Experiment\n",
    "import numpy as np\n",
    "\n",
    "# standard lib for evaluating performance\n",
    "from time import time\n",
    "\n",
    "# lib for presenting results\n",
    "from pandas import DataFrame as DF\n",
    "import matplotlib.pyplot as plt"
   ]
  },
  {
   "cell_type": "code",
   "execution_count": 2,
   "id": "6b6e531c",
   "metadata": {},
   "outputs": [],
   "source": [
    "# constants\n",
    "SEED = 90077\n",
    "\n",
    "# constants for Data Generator\n",
    "KEY_LOWER = 0\n",
    "KEY_UPPER = 10**7\n",
    "DELETED = 0\n",
    "LENGTH = 10**6\n",
    "\n",
    "# constants for Sequence Generator\n",
    "MIXED_PROBS = (0.9, 0.05, 0.05)"
   ]
  },
  {
   "cell_type": "markdown",
   "id": "6d831b7d",
   "metadata": {},
   "source": [
    "---\n",
    "### Data Generator\n",
    "#### Interfaces:\n",
    "* gen_element()\n",
    "* gen_insertion()\n",
    "* gen_deletion()\n",
    "* gen_search()"
   ]
  },
  {
   "cell_type": "code",
   "execution_count": 3,
   "id": "bd558959",
   "metadata": {},
   "outputs": [],
   "source": [
    "class Data_Generator():\n",
    "    \n",
    "    def __init__(self, size, seed=SEED):\n",
    "        self.id = 1\n",
    "        self.arr = np.empty(size+1, dtype=np.int32)\n",
    "        self.rng = np.random.default_rng(seed=seed)\n",
    "    def gen_element(self):\n",
    "        id_ = self.id\n",
    "        key = self.rng.integers(KEY_LOWER, KEY_UPPER, dtype=np.int32, endpoint=True)\n",
    "        self.id += 1\n",
    "        self.arr[id_] = key\n",
    "        return id_, key\n",
    "    \n",
    "    def gen_insertion(self):\n",
    "        return 1, self.gen_element()[1]\n",
    "    \n",
    "    def gen_deletion(self):\n",
    "        if self.id == 1:\n",
    "            return 2, self.rng.integers(KEY_LOWER, KEY_UPPER, dtype=np.int32, endpoint=True)\n",
    "        id_del = self.rng.integers(1, self.id)\n",
    "        if (key_del:=self.arr[id_del]) == DELETED:\n",
    "            return 2, self.rng.integers(KEY_LOWER, KEY_UPPER, dtype=np.int32, endpoint=True)\n",
    "        else:\n",
    "            self.arr[id_del] = DELETED\n",
    "            return 2, key_del\n",
    "    \n",
    "    def gen_search(self):\n",
    "        return 3, self.rng.integers(KEY_LOWER, KEY_UPPER, dtype=np.int32, endpoint=True)"
   ]
  },
  {
   "cell_type": "markdown",
   "id": "169e6b82",
   "metadata": {},
   "source": [
    "---\n",
    "### Sequence Generator\n",
    "**gen_sequence(seq_type, seed=SEED, length=LENGTH, prob=None)**\n",
    "* @argument *seq_type* $\\in$ $\\{$insertion, deletion, search, mixed$\\}$"
   ]
  },
  {
   "cell_type": "code",
   "execution_count": 4,
   "id": "5d9ca01f",
   "metadata": {},
   "outputs": [],
   "source": [
    "def gen_sequence(seq_type, seed=SEED, length=LENGTH, prob=None):\n",
    "    dg    = Data_Generator(length, seed)\n",
    "    rng   = np.random.default_rng(seed=seed)\n",
    "    seq   = np.empty(length, dtype=\"int8, int32\")\n",
    "    seq_type = seq_type[0]\n",
    "    \n",
    "    if seq_type == 'i':\n",
    "        for i in range(length): seq[i] = dg.gen_insertion()\n",
    "    elif seq_type == 'd':\n",
    "        assert 0<prob<1\n",
    "        ops = rng.choice(('i', 'd'), length, p=(1-prob, prob)) \n",
    "        for i, op in enumerate(ops):\n",
    "            if op == 'i':   seq[i] = dg.gen_insertion()\n",
    "            else:           seq[i] = dg.gen_deletion()\n",
    "    elif seq_type == 's':\n",
    "        assert 0<prob<1\n",
    "        ops = rng.choice(('i', 'd'), length, p=(1-prob, prob)) \n",
    "        for i, op in enumerate(ops):\n",
    "            if op == 'i':   seq[i] = dg.gen_insertion()\n",
    "            else:           seq[i] = dg.gen_search()\n",
    "    elif seq_type == 'm':\n",
    "        ops = rng.choice(('i', 's', 'd'), length, p=MIXED_PROBS) \n",
    "        for i, op in enumerate(ops):\n",
    "            if   op == 'i': seq[i] = dg.gen_insertion()\n",
    "            elif op == 's': seq[i] = dg.gen_search()\n",
    "            else:           seq[i] = dg.gen_deletion()\n",
    "    return seq"
   ]
  },
  {
   "cell_type": "markdown",
   "id": "ae3f528e",
   "metadata": {},
   "source": [
    "**Sequence Applicator**"
   ]
  },
  {
   "cell_type": "code",
   "execution_count": 5,
   "id": "b470f75e",
   "metadata": {},
   "outputs": [],
   "source": [
    "def run_sequence(seq, data_structure):\n",
    "    t0 = time()\n",
    "    ds = data_structure()\n",
    "    insert = ds.insert\n",
    "    delete = ds.delete\n",
    "    search = ds.search\n",
    "    for op, key in seq:\n",
    "        if   op==1: insert(key)\n",
    "        elif op==2: delete(key)\n",
    "        elif op==3: search(key)\n",
    "    return int(time()-t0)"
   ]
  },
  {
   "cell_type": "markdown",
   "id": "5d94d7a1",
   "metadata": {},
   "source": [
    "---\n",
    "### Treap\n",
    "An implementation of Treap that supports the following operations:\n",
    "* insert(key)\n",
    "* delete(key)\n",
    "* search(key)"
   ]
  },
  {
   "cell_type": "code",
   "execution_count": 6,
   "id": "c42b6677",
   "metadata": {},
   "outputs": [],
   "source": [
    "class Treap():\n",
    "    def __init__(self, seed=SEED):\n",
    "        self.rng = np.random.default_rng(seed=seed)\n",
    "        self.gen_priority = self.rng.random\n",
    "        self.root = None\n",
    "    \n",
    "    def insert(self, key):\n",
    "        if self.root is None:\n",
    "            self.root = self.TreapNode(self.gen_priority(), key)\n",
    "        else:\n",
    "            self._insert(self.root, key)\n",
    "    \n",
    "    def _insert(self, node, key):\n",
    "        if key < node.key:\n",
    "            if node.L is not None:\n",
    "                self._insert(node.L, key)\n",
    "            else:\n",
    "                node.L = self.TreapNode(self.gen_priority(), key, node)\n",
    "                self._bubble_up(node.L)\n",
    "        else:\n",
    "            if node.R is not None:\n",
    "                self._insert(node.R, key)\n",
    "            else:\n",
    "                node.R = self.TreapNode(self.gen_priority(), key, node)\n",
    "                self._bubble_up(node.R)\n",
    "\n",
    "    def _bubble_up(self, node):\n",
    "        if (parent:=node.parent) is not None:\n",
    "            if node.priority < parent.priority:\n",
    "                if parent.L is node:\n",
    "                    node.R, parent.L =\\\n",
    "                    parent, node.R, \n",
    "                    if parent.L:\n",
    "                        parent.L.parent = parent\n",
    "                else:\n",
    "                    node.L, parent.R =\\\n",
    "                    parent, node.L, \n",
    "                    if parent.R:\n",
    "                        parent.R.parent = parent\n",
    "                if (grandparent:=parent.parent) is not None:\n",
    "                    if grandparent.L is parent:\n",
    "                        grandparent.L = node\n",
    "                    else:\n",
    "                        grandparent.R = node\n",
    "                node.parent, parent.parent =\\\n",
    "                grandparent, node\n",
    "                self._bubble_up(node)\n",
    "        else:\n",
    "            self.root = node\n",
    "    \n",
    "    def delete(self, key):\n",
    "        node = self._search(key, self.root)\n",
    "        # if it has at least one child\n",
    "        if node is None:\n",
    "            return\n",
    "        if node.L is not None or node.R is not None:\n",
    "            self._bubble_down(node)\n",
    "        else:\n",
    "            if self.root is node:\n",
    "                self.root = None\n",
    "                del node\n",
    "            else:\n",
    "                parent = node.parent\n",
    "                if parent.L is node:\n",
    "                    parent.L = None\n",
    "                else:\n",
    "                    parent.R = None\n",
    "                del node\n",
    "        \n",
    "    def _bubble_down(self, node):\n",
    "        # if it has two children\n",
    "        if node.L and node.R:\n",
    "            if node.L.priority < node.R.priority:\n",
    "                new = node.L\n",
    "                new.R, node.L =\\\n",
    "                node, new.R\n",
    "                if node.L:\n",
    "                    node.L.parent = node\n",
    "            else:\n",
    "                new = node.R\n",
    "                new.L, node.R =\\\n",
    "                node, new.L\n",
    "                if node.R:\n",
    "                    node.R.parent = node\n",
    "            if (parent:=node.parent) is not None:\n",
    "                if parent.L is node:\n",
    "                    parent.L = new\n",
    "                else:\n",
    "                    parent.R = new\n",
    "            else:\n",
    "                self.root = new\n",
    "            new.parent, node.parent =\\\n",
    "            parent, new\n",
    "            self._bubble_down(node)\n",
    "\n",
    "        else:\n",
    "            # if its parent is None, then it's root node\n",
    "            if (parent:=node.parent) is None:\n",
    "                if node.L is None:\n",
    "                    self.root = node.R\n",
    "                else:\n",
    "                    self.root = node.L\n",
    "                self.root.parent = None\n",
    "                del node\n",
    "            else:\n",
    "                if node.L is None:\n",
    "                    new = node.R\n",
    "                elif node.R is None:\n",
    "                    new = node.L\n",
    "                else:\n",
    "                    del node\n",
    "                    return\n",
    "                new.parent = parent\n",
    "                if parent.L is node:\n",
    "                    parent.L = new\n",
    "                else:\n",
    "                    parent.R = new                    \n",
    "                del node\n",
    "\n",
    "    def search(self, key):\n",
    "        node = self._search(key, self.root)\n",
    "        if node is not None:\n",
    "            return node.key\n",
    "    \n",
    "    def _search(self, key, node):\n",
    "        if node is not None:\n",
    "            if key < node.key:\n",
    "                return self._search(key, node.L)\n",
    "            elif key > node.key:\n",
    "                return self._search(key, node.R)\n",
    "            else:\n",
    "                return node\n",
    "    \n",
    "    class TreapNode():\n",
    "        def __init__(self, priority, key, parent=None):\n",
    "            self.priority = priority\n",
    "            self.key = key\n",
    "            self.parent = parent\n",
    "            self.L = None\n",
    "            self.R = None"
   ]
  },
  {
   "cell_type": "markdown",
   "id": "5df46035",
   "metadata": {},
   "source": [
    "---\n",
    "### Dynamic Array\n",
    "An implementation of Dynamic Array that supports the following operations:\n",
    "* insert(key)\n",
    "* delete(key)\n",
    "* search(key)"
   ]
  },
  {
   "cell_type": "code",
   "execution_count": 7,
   "id": "5df83872",
   "metadata": {},
   "outputs": [],
   "source": [
    "class Dynamic_Array():\n",
    "    \n",
    "    def __init__(self, size=1):\n",
    "        self.n = 0\n",
    "        self.N = size\n",
    "        self.arr = np.empty(self.N, dtype=np.int32)\n",
    "    \n",
    "    def insert(self, key):\n",
    "        self.arr[self.n] = key\n",
    "        self.n += 1\n",
    "        if self.n == self.N:\n",
    "            self._resize()\n",
    "    \n",
    "    def search(self, key):\n",
    "        try:\n",
    "            return self._search(key)[1]\n",
    "        except TypeError:\n",
    "            return\n",
    "        \n",
    "    def _search(self, key0):\n",
    "        for i, key in enumerate(self.arr[:self.n]):\n",
    "            if key==key0:\n",
    "                return i, key\n",
    "    \n",
    "    def delete(self, key):\n",
    "        try:\n",
    "            i, key = self._search(key)\n",
    "            self.arr[i], self.arr[self.n-1] = self.arr[self.n-1], self.arr[i]\n",
    "            self.n -= 1\n",
    "            if self.n and 4*self.n < self.N:\n",
    "                self._shrink()\n",
    "        except TypeError:\n",
    "            pass\n",
    "    \n",
    "    def _resize(self):\n",
    "        N1 = self.N * 2\n",
    "        arr = np.empty(N1, dtype=np.int32)\n",
    "        arr[:self.n] = self.arr\n",
    "        del self.arr\n",
    "        self.arr = arr\n",
    "        self.N = N1\n",
    "    \n",
    "    def _shrink(self):\n",
    "        N1 = self.N // 2\n",
    "        arr = np.empty(N1, dtype=np.int32)\n",
    "        arr = self.arr[:self.n]\n",
    "        del self.arr\n",
    "        self.arr = arr\n",
    "        self.N = N1"
   ]
  },
  {
   "cell_type": "markdown",
   "id": "18570bf8",
   "metadata": {},
   "source": [
    "---\n",
    "### Experiment\n",
    "#### Sequence Generation"
   ]
  },
  {
   "cell_type": "markdown",
   "id": "45f6a62e",
   "metadata": {},
   "source": [
    "##### Exp 1: Time v.s. Number of Insertions"
   ]
  },
  {
   "cell_type": "code",
   "execution_count": 8,
   "id": "c38ba152",
   "metadata": {},
   "outputs": [],
   "source": [
    "seq_insert_01M = gen_sequence('insertion', seed=SEED+1, length=10**5)\n",
    "seq_insert_02M = gen_sequence('insertion', seed=SEED+2, length=10**5*2)\n",
    "seq_insert_05M = gen_sequence('insertion', seed=SEED+5, length=10**5*5)\n",
    "seq_insert_08M = gen_sequence('insertion', seed=SEED+4, length=10**5*8)\n",
    "seq_insert_1M  = gen_sequence('insertion', seed=SEED+5, length=10**6)\n",
    "seq_insertions = (seq_insert_01M, seq_insert_02M, seq_insert_05M, seq_insert_08M, seq_insert_1M)"
   ]
  },
  {
   "cell_type": "markdown",
   "id": "99549307",
   "metadata": {},
   "source": [
    "##### Exp 2: Time v.s. Deletion Percentage"
   ]
  },
  {
   "cell_type": "code",
   "execution_count": 9,
   "id": "30b9350d",
   "metadata": {},
   "outputs": [],
   "source": [
    "seq_delete_01P = gen_sequence('delete', seed=SEED+11, prob=0.001)\n",
    "seq_delete_05P = gen_sequence('delete', seed=SEED+22, prob=0.005)\n",
    "seq_delete_1P  = gen_sequence('delete', seed=SEED+33, prob=0.01)\n",
    "seq_delete_5P  = gen_sequence('delete', seed=SEED+44, prob=0.05)\n",
    "seq_delete_10P = gen_sequence('delete', seed=SEED+55, prob=0.1)\n",
    "seq_deletions  = (seq_delete_01P, seq_delete_05P, seq_delete_1P, seq_delete_5P, seq_delete_10P)"
   ]
  },
  {
   "cell_type": "markdown",
   "id": "455b9d45",
   "metadata": {},
   "source": [
    "##### Exp 3: Time v.s. Search Percentage"
   ]
  },
  {
   "cell_type": "code",
   "execution_count": 10,
   "id": "af2075ab",
   "metadata": {},
   "outputs": [],
   "source": [
    "seq_search_01P = gen_sequence('search', seed=SEED+111, prob=0.001)\n",
    "seq_search_05P = gen_sequence('search', seed=SEED+222, prob=0.005)\n",
    "seq_search_1P  = gen_sequence('search', seed=SEED+333, prob=0.01)\n",
    "seq_search_5P  = gen_sequence('search', seed=SEED+444, prob=0.05)\n",
    "seq_search_10P = gen_sequence('search', seed=SEED+555, prob=0.1)\n",
    "seq_searches   = (seq_search_01P, seq_search_05P, seq_search_1P, seq_search_5P, seq_search_10P)"
   ]
  },
  {
   "cell_type": "markdown",
   "id": "633d808b",
   "metadata": {},
   "source": [
    "##### Exp 4: Time v.s. Length of Mixed Operation Sequence"
   ]
  },
  {
   "cell_type": "code",
   "execution_count": 11,
   "id": "50a8d8f5",
   "metadata": {},
   "outputs": [],
   "source": [
    "seq_mixed_01M = gen_sequence('mixed', seed=SEED+1111, length=10**5)\n",
    "seq_mixed_02M = gen_sequence('mixed', seed=SEED+2222, length=10**5*2)\n",
    "seq_mixed_05M = gen_sequence('mixed', seed=SEED+3333, length=10**5*5)\n",
    "seq_mixed_08M = gen_sequence('mixed', seed=SEED+4444, length=10**5*8)\n",
    "seq_mixed_1M  = gen_sequence('mixed', seed=SEED+5555, length=10**6)\n",
    "seq_mixes     = (seq_mixed_01M, seq_mixed_02M, seq_mixed_05M, seq_mixed_08M, seq_mixed_1M)"
   ]
  },
  {
   "cell_type": "markdown",
   "id": "1d10b620",
   "metadata": {},
   "source": [
    "Display the first $20$ elements of the mixed operation sequence of length $1M$"
   ]
  },
  {
   "cell_type": "code",
   "execution_count": 12,
   "id": "25f34bd6",
   "metadata": {
    "scrolled": false
   },
   "outputs": [
    {
     "name": "stdout",
     "output_type": "stream",
     "text": [
      "[(1, 8635148), (1, 3768526), (1, 765391), (1, 5886607), (1, 6685885)]\n",
      "[(1, 1835094), (1, 3969119), (1, 9285986), (1, 5519368), (1, 8764861)]\n",
      "[(1, 1750276), (1, 4346550), (1, 522402), (2, 2026790), (1, 6230686)]\n",
      "[(1, 1390628), (1, 465645), (1, 7298660), (3, 8281128), (1, 2667558)]\n"
     ]
    }
   ],
   "source": [
    "for i in range(1, 5): print(seq_mixed_1M[5*i:(5*(i+1))].tolist())"
   ]
  },
  {
   "cell_type": "markdown",
   "id": "6d0a6d71",
   "metadata": {},
   "source": [
    "---\n",
    "#### Apply Operation Sequence to Treap and Dynamic Array\n",
    "* Apply sequences to **Treap**"
   ]
  },
  {
   "cell_type": "code",
   "execution_count": 13,
   "id": "6175601f",
   "metadata": {},
   "outputs": [],
   "source": [
    "t_insertions = [run_sequence(seq, Treap) for seq in seq_insertions]\n",
    "t_deletions  = [run_sequence(seq, Treap) for seq in seq_deletions]\n",
    "t_searches   = [run_sequence(seq, Treap) for seq in seq_searches]\n",
    "t_mixes      = [run_sequence(seq, Treap) for seq in seq_mixes]"
   ]
  },
  {
   "cell_type": "markdown",
   "id": "be9f8652",
   "metadata": {},
   "source": [
    "* Apply sequences to **Dynamic Array**"
   ]
  },
  {
   "cell_type": "code",
   "execution_count": 14,
   "id": "efa17d62",
   "metadata": {},
   "outputs": [],
   "source": [
    "da_insertions = [run_sequence(seq, Dynamic_Array) for seq in seq_insertions]\n",
    "da_deletions  = [run_sequence(seq, Dynamic_Array) for seq in seq_deletions]\n",
    "da_searches   = [run_sequence(seq, Dynamic_Array) for seq in seq_searches]\n",
    "da_mixes      = [run_sequence(seq, Dynamic_Array) for seq in seq_mixes]"
   ]
  },
  {
   "cell_type": "markdown",
   "id": "3e805774",
   "metadata": {},
   "source": [
    "---\n",
    "### Visualisation"
   ]
  },
  {
   "cell_type": "code",
   "execution_count": 15,
   "id": "a6df8d8a",
   "metadata": {},
   "outputs": [
    {
     "data": {
      "image/png": "[encoded data removed]",
      "text/plain": [
       "<Figure size 864x648 with 1 Axes>"
      ]
     },
     "metadata": {
      "needs_background": "light"
     },
     "output_type": "display_data"
    }
   ],
   "source": [
    "x = (0.1, 0.2, 0.5, 0.8, 1)\n",
    "plt.figure(figsize=(12,9))\n",
    "plt.plot(x, t_insertions,  marker='o', label='Treap')\n",
    "plt.plot(x, da_insertions, marker='o', label='Dynamic Array')\n",
    "plt.title('insertion sequence')\n",
    "plt.ylabel('run time (seconds)')\n",
    "plt.xlabel('sequence length (millions)')\n",
    "plt.legend()\n",
    "plt.show()"
   ]
  },
  {
   "cell_type": "code",
   "execution_count": 16,
   "id": "f672d383",
   "metadata": {},
   "outputs": [
    {
     "data": {
      "image/png": "[encoded data removed]",
      "text/plain": [
       "<Figure size 864x648 with 1 Axes>"
      ]
     },
     "metadata": {
      "needs_background": "light"
     },
     "output_type": "display_data"
    }
   ],
   "source": [
    "x = (0.1, 0.5, 1, 5, 10)\n",
    "plt.figure(figsize=(12,9))\n",
    "plt.plot(x, t_deletions,  marker='o', label='Treap')\n",
    "plt.plot(x, da_deletions, marker='o', label='Dynamic Array')\n",
    "plt.title('insertion & deletion sequence')\n",
    "plt.ylabel('run time (seconds)')\n",
    "plt.xlabel('deletion probability (%)')\n",
    "plt.legend()\n",
    "plt.show()"
   ]
  },
  {
   "cell_type": "code",
   "execution_count": 17,
   "id": "7aee6a0d",
   "metadata": {},
   "outputs": [
    {
     "data": {
      "image/png": "[encoded data removed]",
      "text/plain": [
       "<Figure size 864x648 with 1 Axes>"
      ]
     },
     "metadata": {
      "needs_background": "light"
     },
     "output_type": "display_data"
    }
   ],
   "source": [
    "x = (0.1, 0.5, 1, 5, 10)\n",
    "plt.figure(figsize=(12,9))\n",
    "plt.plot(x, t_searches,  marker='o', label='Treap')\n",
    "plt.plot(x, da_searches, marker='o', label='Dynamic Array')\n",
    "plt.title('insertion & search sequence')\n",
    "plt.ylabel('run time (seconds)')\n",
    "plt.xlabel('search probability (%)')\n",
    "plt.legend()\n",
    "plt.show()"
   ]
  },
  {
   "cell_type": "code",
   "execution_count": 18,
   "id": "02375f32",
   "metadata": {},
   "outputs": [
    {
     "data": {
      "image/png": "[encoded data removed]",
      "text/plain": [
       "<Figure size 864x648 with 1 Axes>"
      ]
     },
     "metadata": {
      "needs_background": "light"
     },
     "output_type": "display_data"
    }
   ],
   "source": [
    "x = (0.1, 0.2, 0.5, 0.8, 1)\n",
    "plt.figure(figsize=(12,9))\n",
    "plt.plot(x, t_mixes,  marker='o', label='Treap')\n",
    "plt.plot(x, da_mixes, marker='o', label='Dynamic Array')\n",
    "plt.title('insertion & deletion & search sequence')\n",
    "plt.ylabel('run time (seconds)')\n",
    "plt.xlabel('sequence length (millions)')\n",
    "plt.legend()\n",
    "plt.show()"
   ]
  },
  {
   "cell_type": "markdown",
   "id": "f67915cb",
   "metadata": {},
   "source": [
    "#### Insertion Sequences"
   ]
  },
  {
   "cell_type": "code",
   "execution_count": 20,
   "id": "43a7d0f7",
   "metadata": {},
   "outputs": [
    {
     "data": {
      "text/html": [
       "<div>\n",
       "<style scoped>\n",
       "    .dataframe tbody tr th:only-of-type {\n",
       "        vertical-align: middle;\n",
       "    }\n",
       "\n",
       "    .dataframe tbody tr th {\n",
       "        vertical-align: top;\n",
       "    }\n",
       "\n",
       "    .dataframe thead th {\n",
       "        text-align: right;\n",
       "    }\n",
       "</style>\n",
       "<table border=\"1\" class=\"dataframe\">\n",
       "  <thead>\n",
       "    <tr style=\"text-align: right;\">\n",
       "      <th></th>\n",
       "      <th>0.1M</th>\n",
       "      <th>0.2M</th>\n",
       "      <th>0.5M</th>\n",
       "      <th>0.8M</th>\n",
       "      <th>1M</th>\n",
       "    </tr>\n",
       "  </thead>\n",
       "  <tbody>\n",
       "    <tr>\n",
       "      <th>Treap</th>\n",
       "      <td>2</td>\n",
       "      <td>5</td>\n",
       "      <td>14</td>\n",
       "      <td>25</td>\n",
       "      <td>35</td>\n",
       "    </tr>\n",
       "    <tr>\n",
       "      <th>Dynamic Array</th>\n",
       "      <td>0</td>\n",
       "      <td>0</td>\n",
       "      <td>2</td>\n",
       "      <td>3</td>\n",
       "      <td>4</td>\n",
       "    </tr>\n",
       "  </tbody>\n",
       "</table>\n",
       "</div>"
      ],
      "text/plain": [
       "               0.1M  0.2M  0.5M  0.8M  1M\n",
       "Treap             2     5    14    25  35\n",
       "Dynamic Array     0     0     2     3   4"
      ]
     },
     "execution_count": 20,
     "metadata": {},
     "output_type": "execute_result"
    }
   ],
   "source": [
    "DF.from_records(data = (t_insertions, da_insertions),\n",
    "                columns = ('0.1M', '0.2M', '0.5M', '0.8M', '1M'),\n",
    "                index   = ('Treap', 'Dynamic Array'))"
   ]
  },
  {
   "cell_type": "markdown",
   "id": "9511a090",
   "metadata": {},
   "source": [
    "#### Insertion & Deletion Sequences"
   ]
  },
  {
   "cell_type": "code",
   "execution_count": 21,
   "id": "5c363bfc",
   "metadata": {},
   "outputs": [
    {
     "data": {
      "text/html": [
       "<div>\n",
       "<style scoped>\n",
       "    .dataframe tbody tr th:only-of-type {\n",
       "        vertical-align: middle;\n",
       "    }\n",
       "\n",
       "    .dataframe tbody tr th {\n",
       "        vertical-align: top;\n",
       "    }\n",
       "\n",
       "    .dataframe thead th {\n",
       "        text-align: right;\n",
       "    }\n",
       "</style>\n",
       "<table border=\"1\" class=\"dataframe\">\n",
       "  <thead>\n",
       "    <tr style=\"text-align: right;\">\n",
       "      <th></th>\n",
       "      <th>0.1%</th>\n",
       "      <th>0.5%</th>\n",
       "      <th>1%</th>\n",
       "      <th>5%</th>\n",
       "      <th>10%</th>\n",
       "    </tr>\n",
       "  </thead>\n",
       "  <tbody>\n",
       "    <tr>\n",
       "      <th>Treap</th>\n",
       "      <td>33</td>\n",
       "      <td>34</td>\n",
       "      <td>33</td>\n",
       "      <td>34</td>\n",
       "      <td>32</td>\n",
       "    </tr>\n",
       "    <tr>\n",
       "      <th>Dynamic Array</th>\n",
       "      <td>35</td>\n",
       "      <td>152</td>\n",
       "      <td>295</td>\n",
       "      <td>712</td>\n",
       "      <td>1248</td>\n",
       "    </tr>\n",
       "  </tbody>\n",
       "</table>\n",
       "</div>"
      ],
      "text/plain": [
       "               0.1%  0.5%   1%   5%   10%\n",
       "Treap            33    34   33   34    32\n",
       "Dynamic Array    35   152  295  712  1248"
      ]
     },
     "execution_count": 21,
     "metadata": {},
     "output_type": "execute_result"
    }
   ],
   "source": [
    "DF.from_records(data = (t_deletions, da_deletions),\n",
    "                columns = ('0.1%', '0.5%', '1%', '5%', '10%'),\n",
    "                index   = ('Treap', 'Dynamic Array'))"
   ]
  },
  {
   "cell_type": "markdown",
   "id": "510197fb",
   "metadata": {},
   "source": [
    "#### Insertion & Search Sequences"
   ]
  },
  {
   "cell_type": "code",
   "execution_count": 22,
   "id": "8c595122",
   "metadata": {},
   "outputs": [
    {
     "data": {
      "text/html": [
       "<div>\n",
       "<style scoped>\n",
       "    .dataframe tbody tr th:only-of-type {\n",
       "        vertical-align: middle;\n",
       "    }\n",
       "\n",
       "    .dataframe tbody tr th {\n",
       "        vertical-align: top;\n",
       "    }\n",
       "\n",
       "    .dataframe thead th {\n",
       "        text-align: right;\n",
       "    }\n",
       "</style>\n",
       "<table border=\"1\" class=\"dataframe\">\n",
       "  <thead>\n",
       "    <tr style=\"text-align: right;\">\n",
       "      <th></th>\n",
       "      <th>0.1%</th>\n",
       "      <th>0.5%</th>\n",
       "      <th>1%</th>\n",
       "      <th>5%</th>\n",
       "      <th>10%</th>\n",
       "    </tr>\n",
       "  </thead>\n",
       "  <tbody>\n",
       "    <tr>\n",
       "      <th>Treap</th>\n",
       "      <td>34</td>\n",
       "      <td>34</td>\n",
       "      <td>35</td>\n",
       "      <td>33</td>\n",
       "      <td>33</td>\n",
       "    </tr>\n",
       "    <tr>\n",
       "      <th>Dynamic Array</th>\n",
       "      <td>28</td>\n",
       "      <td>135</td>\n",
       "      <td>281</td>\n",
       "      <td>1318</td>\n",
       "      <td>2517</td>\n",
       "    </tr>\n",
       "  </tbody>\n",
       "</table>\n",
       "</div>"
      ],
      "text/plain": [
       "               0.1%  0.5%   1%    5%   10%\n",
       "Treap            34    34   35    33    33\n",
       "Dynamic Array    28   135  281  1318  2517"
      ]
     },
     "execution_count": 22,
     "metadata": {},
     "output_type": "execute_result"
    }
   ],
   "source": [
    "DF.from_records(data = (t_searches, da_searches),\n",
    "                columns = ('0.1%', '0.5%', '1%', '5%', '10%'),\n",
    "                index   = ('Treap', 'Dynamic Array'))"
   ]
  },
  {
   "cell_type": "markdown",
   "id": "eedf4077",
   "metadata": {},
   "source": [
    "#### Insertion & Deletion & Search Sequences"
   ]
  },
  {
   "cell_type": "code",
   "execution_count": 24,
   "id": "7c7f3c07",
   "metadata": {},
   "outputs": [
    {
     "data": {
      "text/html": [
       "<div>\n",
       "<style scoped>\n",
       "    .dataframe tbody tr th:only-of-type {\n",
       "        vertical-align: middle;\n",
       "    }\n",
       "\n",
       "    .dataframe tbody tr th {\n",
       "        vertical-align: top;\n",
       "    }\n",
       "\n",
       "    .dataframe thead th {\n",
       "        text-align: right;\n",
       "    }\n",
       "</style>\n",
       "<table border=\"1\" class=\"dataframe\">\n",
       "  <thead>\n",
       "    <tr style=\"text-align: right;\">\n",
       "      <th></th>\n",
       "      <th>0.1M</th>\n",
       "      <th>0.2M</th>\n",
       "      <th>0.5M</th>\n",
       "      <th>0.8M</th>\n",
       "      <th>1M</th>\n",
       "    </tr>\n",
       "  </thead>\n",
       "  <tbody>\n",
       "    <tr>\n",
       "      <th>Treap</th>\n",
       "      <td>5</td>\n",
       "      <td>5</td>\n",
       "      <td>14</td>\n",
       "      <td>24</td>\n",
       "      <td>33</td>\n",
       "    </tr>\n",
       "    <tr>\n",
       "      <th>Dynamic Array</th>\n",
       "      <td>18</td>\n",
       "      <td>72</td>\n",
       "      <td>446</td>\n",
       "      <td>1176</td>\n",
       "      <td>2550</td>\n",
       "    </tr>\n",
       "  </tbody>\n",
       "</table>\n",
       "</div>"
      ],
      "text/plain": [
       "               0.1M  0.2M  0.5M  0.8M    1M\n",
       "Treap             5     5    14    24    33\n",
       "Dynamic Array    18    72   446  1176  2550"
      ]
     },
     "execution_count": 24,
     "metadata": {},
     "output_type": "execute_result"
    }
   ],
   "source": [
    "DF.from_records(data = (t_mixes, da_mixes),\n",
    "                columns = ('0.1M', '0.2M', '0.5M', '0.8M', '1M'),\n",
    "                index   = ('Treap', 'Dynamic Array'))"
   ]
  }
 ],
 "metadata": {
  "kernelspec": {
   "display_name": "Python 3.10.4 64-bit (windows store)",
   "language": "python",
   "name": "python3"
  },
  "language_info": {
   "codemirror_mode": {
    "name": "ipython",
    "version": 3
   },
   "file_extension": ".py",
   "mimetype": "text/x-python",
   "name": "python",
   "nbconvert_exporter": "python",
   "pygments_lexer": "ipython3",
   "version": "3.10.4"
  },
  "vscode": {
   "interpreter": {
    "hash": "eb76b9e23d04ed38c3247db8adc02c6e9e07c87c8128996913dbc97224392eba"
   }
  }
 },
 "nbformat": 4,
 "nbformat_minor": 5
}
